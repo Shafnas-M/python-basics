{
 "cells": [
  {
   "cell_type": "markdown",
   "id": "36499e98",
   "metadata": {},
   "source": [
    "# Python\n"
   ]
  },
  {
   "cell_type": "code",
   "execution_count": null,
   "id": "83468815",
   "metadata": {},
   "outputs": [
    {
     "name": "stdout",
     "output_type": "stream",
     "text": [
      "Enter the numbers:\n"
     ]
    }
   ],
   "source": [
    "print(\"Enter the numbers:\")\n",
    "numOne = int(input())\n",
    "numTwo = int(input())\n",
    "\n",
    "if numOne>numTwo:\n",
    "    lcm = numOne\n",
    "else:\n",
    "    lcm = numTwo\n",
    "    \n",
    "while True:\n",
    "    if lcm%numOne==0 and lcm%numTwo==0:\n",
    "        break\n",
    "    else:\n",
    "        lcm = lcm+1\n",
    "print(\"\\nLCM\",lcm)"
   ]
  },
  {
   "cell_type": "code",
   "execution_count": 2,
   "id": "32b8cbf8",
   "metadata": {},
   "outputs": [
    {
     "name": "stdout",
     "output_type": "stream",
     "text": [
      "Enter the number of numbers:5\n",
      "6\n",
      "8\n",
      "4\n",
      "6\n",
      "2\n"
     ]
    }
   ],
   "source": [
    "num = int(input(\"Enter the number of numbers:\"))\n",
    "numbers = []\n",
    "for i in range(0, num):\n",
    "    a = int(input())\n",
    "    numbers.append(a)\n",
    "lcm = numbers[0]\n",
    "for num in numbers:\n",
    "    if lcm > num:\n",
    "        continue\n",
    "    else:\n",
    "        lcm = num\n"
   ]
  },
  {
   "cell_type": "code",
   "execution_count": 4,
   "id": "67fdab81",
   "metadata": {},
   "outputs": [
    {
     "name": "stderr",
     "output_type": "stream",
     "text": [
      "ERROR: Could not find a version that satisfies the requirement fractions (from versions: none)\n",
      "ERROR: No matching distribution found for fractions\n"
     ]
    }
   ],
   "source": [
    "!pip install fractions"
   ]
  },
  {
   "cell_type": "code",
   "execution_count": 10,
   "id": "258e33fc",
   "metadata": {},
   "outputs": [
    {
     "name": "stdout",
     "output_type": "stream",
     "text": [
      "60 1\n"
     ]
    }
   ],
   "source": [
    "from math import gcd\n",
    "from functools import reduce\n",
    "a=[2,4,5,3]\n",
    "def LCM(a,b):\n",
    "    return (a*b)//gcd(a,b)\n",
    "lcm = reduce(LCM,a)\n",
    "gcd = reduce(gcd,a)\n",
    "\n",
    "print (lcm, gcd)"
   ]
  },
  {
   "cell_type": "code",
   "execution_count": 6,
   "id": "d324cc66",
   "metadata": {},
   "outputs": [
    {
     "name": "stdout",
     "output_type": "stream",
     "text": [
      "Collecting Fraction\n",
      "  Downloading Fraction-2.2.0-py3-none-any.whl (4.7 kB)\n",
      "Installing collected packages: Fraction\n",
      "Successfully installed Fraction-2.2.0\n"
     ]
    }
   ],
   "source": [
    "!pip install Fraction"
   ]
  },
  {
   "cell_type": "code",
   "execution_count": 11,
   "id": "968ae291",
   "metadata": {},
   "outputs": [
    {
     "name": "stdout",
     "output_type": "stream",
     "text": [
      "dlrowolleh\n"
     ]
    }
   ],
   "source": [
    "string = \"helloworld\"\n",
    "stringrev = string[::-1]\n",
    "print(stringrev)"
   ]
  },
  {
   "cell_type": "code",
   "execution_count": 18,
   "id": "c9c8b7d9",
   "metadata": {},
   "outputs": [
    {
     "name": "stdout",
     "output_type": "stream",
     "text": [
      "Enter the the shift number1\n",
      "Enter the message to be converted : hello\n",
      " ifmmp\n"
     ]
    }
   ],
   "source": [
    "# Encryption of caesar cipher\n",
    "cipher = int(input(\"Enter the the shift number\"))\n",
    "message = input(\"Enter the message to be converted : \")\n",
    "\n",
    "caesarMessage = \" \"\n",
    "for i in range(len(message)):\n",
    "    char = message[i]\n",
    "    if char.isupper():\n",
    "        caesarMessage += chr((ord(char) + cipher - 65) %26 + 65)\n",
    "    else:\n",
    "        caesarMessage += chr((ord(char) + cipher - 97) %26 + 97)\n",
    "        \n",
    "#     convertion = ord(char)+4\n",
    "#     caesarMessage += chr(convertion)\n",
    "\n",
    "print(caesarMessage)"
   ]
  },
  {
   "cell_type": "code",
   "execution_count": 22,
   "id": "0eecf861",
   "metadata": {},
   "outputs": [
    {
     "data": {
      "text/plain": [
       "'Hey Python'"
      ]
     },
     "execution_count": 22,
     "metadata": {},
     "output_type": "execute_result"
    }
   ],
   "source": [
    "file = open(\"test.txt\",\"w\")\n",
    "file.write(\"Hey Python\")\n",
    "file.close()\n",
    "file = open(\"test.txt\", \"r\")\n",
    "file.read()"
   ]
  },
  {
   "cell_type": "code",
   "execution_count": 29,
   "id": "5e123636",
   "metadata": {},
   "outputs": [
    {
     "name": "stdout",
     "output_type": "stream",
     "text": [
      "hello\n",
      "heyhow are you\n",
      "hello\n",
      "\n",
      "['hello\\n', 'heyhow are you']\n",
      "hello\n",
      "heyhola\n"
     ]
    }
   ],
   "source": [
    "file = open(\"test.txt\", \"w\")\n",
    "lists=[\"hello\\n\",\"hey\",\"how are you\"]\n",
    "file.writelines(lists)\n",
    "file.close()\n",
    "\n",
    "file = open(\"test.txt\",\"r\")\n",
    "read = file.read()\n",
    "print(read)\n",
    "file.seek(0)\n",
    "\n",
    "readline = file.readline()\n",
    "print(readline)\n",
    "file.seek(0)\n",
    "\n",
    "readlines = file.readlines()\n",
    "print(readlines)\n",
    "\n",
    "file = open(\"test.txt\", \"w\")\n",
    "lists=[\"hello\\n\",\"hey\",\"how are you\"]\n",
    "lists[2] = \"hola\"\n",
    "file.writelines(lists)\n",
    "file.close()\n",
    "\n",
    "file = open(\"test.txt\",\"r\")\n",
    "read = file.read()\n",
    "print(read)"
   ]
  },
  {
   "cell_type": "code",
   "execution_count": null,
   "id": "10d9ddaf",
   "metadata": {},
   "outputs": [],
   "source": []
  }
 ],
 "metadata": {
  "kernelspec": {
   "display_name": "Python 3 (ipykernel)",
   "language": "python",
   "name": "python3"
  },
  "language_info": {
   "codemirror_mode": {
    "name": "ipython",
    "version": 3
   },
   "file_extension": ".py",
   "mimetype": "text/x-python",
   "name": "python",
   "nbconvert_exporter": "python",
   "pygments_lexer": "ipython3",
   "version": "3.11.3"
  }
 },
 "nbformat": 4,
 "nbformat_minor": 5
}
